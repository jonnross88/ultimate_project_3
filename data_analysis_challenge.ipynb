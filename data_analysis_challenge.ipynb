{
 "cells": [
  {
   "cell_type": "markdown",
   "metadata": {},
   "source": [
    "\n"
   ]
  },
  {
   "cell_type": "code",
   "execution_count": 7,
   "metadata": {},
   "outputs": [],
   "source": [
    "# Importing required libraries\n",
    "from zipfile import ZipFile, is_zipfile\n",
    "from pathlib import Path\n",
    "import pandas as pd"
   ]
  },
  {
   "cell_type": "markdown",
   "metadata": {},
   "source": [
    "Initial code block which main task is to unzip the contents of the compressed file."
   ]
  },
  {
   "cell_type": "code",
   "execution_count": 11,
   "metadata": {},
   "outputs": [
    {
     "name": "stdout",
     "output_type": "stream",
     "text": [
      "Extracted data\\ultimate_challenge_3.zip to data\\ultimate_challenge_3\n"
     ]
    }
   ],
   "source": [
    "# Define the path to the zipfile\n",
    "zip_path = Path(\"data/ultimate_challenge_3.zip\")\n",
    "\n",
    "\n",
    "# Check if the zipfile exists with a function\n",
    "def check_zipfile(zip_path: Path) -> bool:\n",
    "    \"\"\"Check if the zipfile exists at the given path.\"\"\"\n",
    "    return zip_path.exists() and is_zipfile(zip_path)\n",
    "\n",
    "\n",
    "# Create a function to create a new directory\n",
    "def create_target_directory(target_dir: Path):\n",
    "    \"\"\"Creates a new_directory and returns it.\"\"\"\n",
    "    target_dir.mkdir(parents=True, exist_ok=True)\n",
    "    return target_dir\n",
    "\n",
    "\n",
    "def extract_zipfile(zip_path: Path, target_dir: Path):\n",
    "    \"\"\"Extracts the contents of zip at zip_path to target_dir.\"\"\"\n",
    "    with ZipFile(zip_path, \"r\") as zip_ref:\n",
    "        # get a list of all the files in the zipfile\n",
    "        for file in zip_ref.namelist():\n",
    "            # if the file does not exist in the target directory, extract it\n",
    "            if not (target_dir / file).exists():\n",
    "                zip_ref.extract(file, target_dir)\n",
    "        print(f\"Extracted {zip_path} to {target_dir}\")\n",
    "\n",
    "\n",
    "# use the functions to extract the zipfile\n",
    "if check_zipfile(zip_path):\n",
    "    target_dir = zip_path.parent / zip_path.stem\n",
    "    create_target_directory(target_dir)\n",
    "    extract_zipfile(zip_path, target_dir)"
   ]
  },
  {
   "cell_type": "code",
   "execution_count": 16,
   "metadata": {},
   "outputs": [
    {
     "name": "stdout",
     "output_type": "stream",
     "text": [
      "Shape of the dataframe: 93142 rows and 1 columns\n"
     ]
    },
    {
     "data": {
      "text/plain": [
       "login_time    datetime64[ns]\n",
       "dtype: object"
      ]
     },
     "execution_count": 16,
     "metadata": {},
     "output_type": "execute_result"
    }
   ],
   "source": [
    "# Expalnatroy Data Analysis\n",
    "logins_path = \"data/ultimate_challenge_3/ultimate_challenge/logins.json\"\n",
    "\n",
    "logins_df = pd.read_json(logins_path)\n",
    "print(\n",
    "    f\"Shape of the dataframe: {logins_df.shape[0]} rows and {logins_df.shape[1]} columns\"\n",
    ")\n",
    "logins_df.dtypes"
   ]
  },
  {
   "cell_type": "code",
   "execution_count": 18,
   "metadata": {},
   "outputs": [
    {
     "data": {
      "text/html": [
       "<div>\n",
       "<style scoped>\n",
       "    .dataframe tbody tr th:only-of-type {\n",
       "        vertical-align: middle;\n",
       "    }\n",
       "\n",
       "    .dataframe tbody tr th {\n",
       "        vertical-align: top;\n",
       "    }\n",
       "\n",
       "    .dataframe thead th {\n",
       "        text-align: right;\n",
       "    }\n",
       "</style>\n",
       "<table border=\"1\" class=\"dataframe\">\n",
       "  <thead>\n",
       "    <tr style=\"text-align: right;\">\n",
       "      <th></th>\n",
       "      <th>count</th>\n",
       "      <th>mean</th>\n",
       "      <th>min</th>\n",
       "      <th>25%</th>\n",
       "      <th>50%</th>\n",
       "      <th>75%</th>\n",
       "      <th>max</th>\n",
       "    </tr>\n",
       "  </thead>\n",
       "  <tbody>\n",
       "    <tr>\n",
       "      <th>login_time</th>\n",
       "      <td>93142</td>\n",
       "      <td>1970-02-26 19:09:39.779648278</td>\n",
       "      <td>1970-01-01 20:12:16</td>\n",
       "      <td>1970-02-04 10:37:19.750000</td>\n",
       "      <td>1970-03-01 06:33:05.500000</td>\n",
       "      <td>1970-03-22 04:01:10.750000</td>\n",
       "      <td>1970-04-13 18:57:38</td>\n",
       "    </tr>\n",
       "  </tbody>\n",
       "</table>\n",
       "</div>"
      ],
      "text/plain": [
       "            count                           mean                  min  \\\n",
       "login_time  93142  1970-02-26 19:09:39.779648278  1970-01-01 20:12:16   \n",
       "\n",
       "                                   25%                         50%  \\\n",
       "login_time  1970-02-04 10:37:19.750000  1970-03-01 06:33:05.500000   \n",
       "\n",
       "                                   75%                  max  \n",
       "login_time  1970-03-22 04:01:10.750000  1970-04-13 18:57:38  "
      ]
     },
     "execution_count": 18,
     "metadata": {},
     "output_type": "execute_result"
    }
   ],
   "source": [
    "logins_df.describe().T"
   ]
  },
  {
   "cell_type": "code",
   "execution_count": null,
   "metadata": {},
   "outputs": [],
   "source": [
    "logins_df"
   ]
  },
  {
   "cell_type": "markdown",
   "metadata": {},
   "source": []
  }
 ],
 "metadata": {
  "kernelspec": {
   "display_name": "venv",
   "language": "python",
   "name": "python3"
  },
  "language_info": {
   "codemirror_mode": {
    "name": "ipython",
    "version": 3
   },
   "file_extension": ".py",
   "mimetype": "text/x-python",
   "name": "python",
   "nbconvert_exporter": "python",
   "pygments_lexer": "ipython3",
   "version": "3.10.11"
  },
  "orig_nbformat": 4
 },
 "nbformat": 4,
 "nbformat_minor": 2
}
